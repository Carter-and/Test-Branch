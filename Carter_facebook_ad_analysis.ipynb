{
  "nbformat": 4,
  "nbformat_minor": 0,
  "metadata": {
    "colab": {
      "name": "Carter_facebook_ad_analysis.ipynb",
      "provenance": [],
      "include_colab_link": true
    },
    "kernelspec": {
      "name": "python3",
      "display_name": "Python 3"
    }
  },
  "cells": [
    {
      "cell_type": "markdown",
      "metadata": {
        "id": "view-in-github",
        "colab_type": "text"
      },
      "source": [
        "<a href=\"https://colab.research.google.com/github/Carter-and/Test-Branch/blob/master/Carter_facebook_ad_analysis.ipynb\" target=\"_parent\"><img src=\"https://colab.research.google.com/assets/colab-badge.svg\" alt=\"Open In Colab\"/></a>"
      ]
    },
    {
      "cell_type": "markdown",
      "metadata": {
        "id": "U6ADsQY97doV",
        "colab_type": "text"
      },
      "source": [
        "This project is looking at Facebook ad data to tease out insights regarding how to advertise more effectively"
      ]
    },
    {
      "cell_type": "code",
      "metadata": {
        "id": "R3ZXwo5_jFQQ",
        "colab_type": "code",
        "colab": {}
      },
      "source": [
        "import pandas as pd"
      ],
      "execution_count": 0,
      "outputs": []
    },
    {
      "cell_type": "code",
      "metadata": {
        "id": "mMDQkzekjRYz",
        "colab_type": "code",
        "colab": {}
      },
      "source": [
        "DATA_URL = 'http://128.138.93.164/aprd6342/data/TravelPonyFacebook.csv'\n",
        "df = pd.read_csv(DATA_URL)"
      ],
      "execution_count": 0,
      "outputs": []
    },
    {
      "cell_type": "code",
      "metadata": {
        "id": "_HgIsMs8jTyD",
        "colab_type": "code",
        "outputId": "b532fd01-86fd-4eab-a1a0-7d2c7a70025c",
        "colab": {
          "base_uri": "https://localhost:8080/",
          "height": 394
        }
      },
      "source": [
        "df.head()"
      ],
      "execution_count": 0,
      "outputs": [
        {
          "output_type": "execute_result",
          "data": {
            "text/html": [
              "<div>\n",
              "<style scoped>\n",
              "    .dataframe tbody tr th:only-of-type {\n",
              "        vertical-align: middle;\n",
              "    }\n",
              "\n",
              "    .dataframe tbody tr th {\n",
              "        vertical-align: top;\n",
              "    }\n",
              "\n",
              "    .dataframe thead th {\n",
              "        text-align: right;\n",
              "    }\n",
              "</style>\n",
              "<table border=\"1\" class=\"dataframe\">\n",
              "  <thead>\n",
              "    <tr style=\"text-align: right;\">\n",
              "      <th></th>\n",
              "      <th>Start Date</th>\n",
              "      <th>End Date</th>\n",
              "      <th>Account</th>\n",
              "      <th>Campaign Name</th>\n",
              "      <th>Reach</th>\n",
              "      <th>Frequency</th>\n",
              "      <th>Impressions</th>\n",
              "      <th>Clicks</th>\n",
              "      <th>Unique Clicks</th>\n",
              "      <th>Amount Spent (USD)</th>\n",
              "      <th>Page Likes</th>\n",
              "      <th>Page Engagement</th>\n",
              "      <th>Post Engagement</th>\n",
              "      <th>Post Likes</th>\n",
              "      <th>Post Comments</th>\n",
              "      <th>Post Shares</th>\n",
              "      <th>Photo Views</th>\n",
              "      <th>Website Clicks</th>\n",
              "      <th>Cost per Page Like (USD)</th>\n",
              "      <th>Cost per Page Engagement (USD)</th>\n",
              "    </tr>\n",
              "  </thead>\n",
              "  <tbody>\n",
              "    <tr>\n",
              "      <th>0</th>\n",
              "      <td>2013-12-02</td>\n",
              "      <td>2013-12-02</td>\n",
              "      <td>Bob Jackson</td>\n",
              "      <td>Cyber Weekend</td>\n",
              "      <td>278117</td>\n",
              "      <td>2.314303</td>\n",
              "      <td>643647</td>\n",
              "      <td>336</td>\n",
              "      <td>313</td>\n",
              "      <td>300.00</td>\n",
              "      <td>3</td>\n",
              "      <td>246</td>\n",
              "      <td>243</td>\n",
              "      <td>0</td>\n",
              "      <td>0</td>\n",
              "      <td>0</td>\n",
              "      <td>0</td>\n",
              "      <td>243</td>\n",
              "      <td>100.00</td>\n",
              "      <td>1.219512</td>\n",
              "    </tr>\n",
              "    <tr>\n",
              "      <th>1</th>\n",
              "      <td>2013-12-01</td>\n",
              "      <td>2013-12-01</td>\n",
              "      <td>Bob Jackson</td>\n",
              "      <td>Cyber Weekend</td>\n",
              "      <td>221255</td>\n",
              "      <td>2.079090</td>\n",
              "      <td>460009</td>\n",
              "      <td>376</td>\n",
              "      <td>348</td>\n",
              "      <td>300.00</td>\n",
              "      <td>6</td>\n",
              "      <td>215</td>\n",
              "      <td>209</td>\n",
              "      <td>0</td>\n",
              "      <td>0</td>\n",
              "      <td>0</td>\n",
              "      <td>0</td>\n",
              "      <td>209</td>\n",
              "      <td>50.00</td>\n",
              "      <td>1.395349</td>\n",
              "    </tr>\n",
              "    <tr>\n",
              "      <th>2</th>\n",
              "      <td>2013-11-30</td>\n",
              "      <td>2013-11-30</td>\n",
              "      <td>Bob Jackson</td>\n",
              "      <td>Cyber Weekend</td>\n",
              "      <td>267915</td>\n",
              "      <td>2.499069</td>\n",
              "      <td>669538</td>\n",
              "      <td>383</td>\n",
              "      <td>345</td>\n",
              "      <td>300.00</td>\n",
              "      <td>2</td>\n",
              "      <td>252</td>\n",
              "      <td>250</td>\n",
              "      <td>0</td>\n",
              "      <td>0</td>\n",
              "      <td>0</td>\n",
              "      <td>0</td>\n",
              "      <td>250</td>\n",
              "      <td>150.00</td>\n",
              "      <td>1.190476</td>\n",
              "    </tr>\n",
              "    <tr>\n",
              "      <th>3</th>\n",
              "      <td>2013-11-29</td>\n",
              "      <td>2013-11-29</td>\n",
              "      <td>Bob Jackson</td>\n",
              "      <td>Cyber Weekend</td>\n",
              "      <td>280332</td>\n",
              "      <td>2.365406</td>\n",
              "      <td>663099</td>\n",
              "      <td>301</td>\n",
              "      <td>275</td>\n",
              "      <td>300.00</td>\n",
              "      <td>3</td>\n",
              "      <td>257</td>\n",
              "      <td>254</td>\n",
              "      <td>0</td>\n",
              "      <td>0</td>\n",
              "      <td>0</td>\n",
              "      <td>0</td>\n",
              "      <td>254</td>\n",
              "      <td>100.00</td>\n",
              "      <td>1.167315</td>\n",
              "    </tr>\n",
              "    <tr>\n",
              "      <th>4</th>\n",
              "      <td>2013-11-22</td>\n",
              "      <td>2013-11-22</td>\n",
              "      <td>Bob Jackson</td>\n",
              "      <td>TravelPony: General Ads</td>\n",
              "      <td>14269</td>\n",
              "      <td>1.000420</td>\n",
              "      <td>14275</td>\n",
              "      <td>64</td>\n",
              "      <td>61</td>\n",
              "      <td>35.18</td>\n",
              "      <td>2</td>\n",
              "      <td>14</td>\n",
              "      <td>12</td>\n",
              "      <td>0</td>\n",
              "      <td>0</td>\n",
              "      <td>0</td>\n",
              "      <td>0</td>\n",
              "      <td>12</td>\n",
              "      <td>17.59</td>\n",
              "      <td>2.512857</td>\n",
              "    </tr>\n",
              "  </tbody>\n",
              "</table>\n",
              "</div>"
            ],
            "text/plain": [
              "   Start Date  ... Cost per Page Engagement (USD)\n",
              "0  2013-12-02  ...                       1.219512\n",
              "1  2013-12-01  ...                       1.395349\n",
              "2  2013-11-30  ...                       1.190476\n",
              "3  2013-11-29  ...                       1.167315\n",
              "4  2013-11-22  ...                       2.512857\n",
              "\n",
              "[5 rows x 20 columns]"
            ]
          },
          "metadata": {
            "tags": []
          },
          "execution_count": 7
        }
      ]
    },
    {
      "cell_type": "markdown",
      "metadata": {
        "id": "Z1J0XrFQjkmb",
        "colab_type": "text"
      },
      "source": [
        "Cost per impression"
      ]
    },
    {
      "cell_type": "code",
      "metadata": {
        "id": "bhxWOA9PjiLX",
        "colab_type": "code",
        "colab": {}
      },
      "source": [
        "df['CPI'] = df['Amount Spent (USD)']/df['Impressions']"
      ],
      "execution_count": 0,
      "outputs": []
    },
    {
      "cell_type": "code",
      "metadata": {
        "id": "LGj_g2YOmY_u",
        "colab_type": "code",
        "outputId": "79a0d28c-2dd0-46eb-d83f-a5f2e94833ff",
        "colab": {
          "base_uri": "https://localhost:8080/",
          "height": 394
        }
      },
      "source": [
        "df.head()"
      ],
      "execution_count": 0,
      "outputs": [
        {
          "output_type": "execute_result",
          "data": {
            "text/html": [
              "<div>\n",
              "<style scoped>\n",
              "    .dataframe tbody tr th:only-of-type {\n",
              "        vertical-align: middle;\n",
              "    }\n",
              "\n",
              "    .dataframe tbody tr th {\n",
              "        vertical-align: top;\n",
              "    }\n",
              "\n",
              "    .dataframe thead th {\n",
              "        text-align: right;\n",
              "    }\n",
              "</style>\n",
              "<table border=\"1\" class=\"dataframe\">\n",
              "  <thead>\n",
              "    <tr style=\"text-align: right;\">\n",
              "      <th></th>\n",
              "      <th>Start Date</th>\n",
              "      <th>End Date</th>\n",
              "      <th>Account</th>\n",
              "      <th>Campaign Name</th>\n",
              "      <th>Reach</th>\n",
              "      <th>Frequency</th>\n",
              "      <th>Impressions</th>\n",
              "      <th>Clicks</th>\n",
              "      <th>Unique Clicks</th>\n",
              "      <th>Amount Spent (USD)</th>\n",
              "      <th>Page Likes</th>\n",
              "      <th>Page Engagement</th>\n",
              "      <th>Post Engagement</th>\n",
              "      <th>Post Likes</th>\n",
              "      <th>Post Comments</th>\n",
              "      <th>Post Shares</th>\n",
              "      <th>Photo Views</th>\n",
              "      <th>Website Clicks</th>\n",
              "      <th>Cost per Page Like (USD)</th>\n",
              "      <th>Cost per Page Engagement (USD)</th>\n",
              "      <th>CPI</th>\n",
              "    </tr>\n",
              "  </thead>\n",
              "  <tbody>\n",
              "    <tr>\n",
              "      <th>0</th>\n",
              "      <td>2013-12-02</td>\n",
              "      <td>2013-12-02</td>\n",
              "      <td>Bob Jackson</td>\n",
              "      <td>Cyber Weekend</td>\n",
              "      <td>278117</td>\n",
              "      <td>2.314303</td>\n",
              "      <td>643647</td>\n",
              "      <td>336</td>\n",
              "      <td>313</td>\n",
              "      <td>300.00</td>\n",
              "      <td>3</td>\n",
              "      <td>246</td>\n",
              "      <td>243</td>\n",
              "      <td>0</td>\n",
              "      <td>0</td>\n",
              "      <td>0</td>\n",
              "      <td>0</td>\n",
              "      <td>243</td>\n",
              "      <td>100.00</td>\n",
              "      <td>1.219512</td>\n",
              "      <td>0.000466</td>\n",
              "    </tr>\n",
              "    <tr>\n",
              "      <th>1</th>\n",
              "      <td>2013-12-01</td>\n",
              "      <td>2013-12-01</td>\n",
              "      <td>Bob Jackson</td>\n",
              "      <td>Cyber Weekend</td>\n",
              "      <td>221255</td>\n",
              "      <td>2.079090</td>\n",
              "      <td>460009</td>\n",
              "      <td>376</td>\n",
              "      <td>348</td>\n",
              "      <td>300.00</td>\n",
              "      <td>6</td>\n",
              "      <td>215</td>\n",
              "      <td>209</td>\n",
              "      <td>0</td>\n",
              "      <td>0</td>\n",
              "      <td>0</td>\n",
              "      <td>0</td>\n",
              "      <td>209</td>\n",
              "      <td>50.00</td>\n",
              "      <td>1.395349</td>\n",
              "      <td>0.000652</td>\n",
              "    </tr>\n",
              "    <tr>\n",
              "      <th>2</th>\n",
              "      <td>2013-11-30</td>\n",
              "      <td>2013-11-30</td>\n",
              "      <td>Bob Jackson</td>\n",
              "      <td>Cyber Weekend</td>\n",
              "      <td>267915</td>\n",
              "      <td>2.499069</td>\n",
              "      <td>669538</td>\n",
              "      <td>383</td>\n",
              "      <td>345</td>\n",
              "      <td>300.00</td>\n",
              "      <td>2</td>\n",
              "      <td>252</td>\n",
              "      <td>250</td>\n",
              "      <td>0</td>\n",
              "      <td>0</td>\n",
              "      <td>0</td>\n",
              "      <td>0</td>\n",
              "      <td>250</td>\n",
              "      <td>150.00</td>\n",
              "      <td>1.190476</td>\n",
              "      <td>0.000448</td>\n",
              "    </tr>\n",
              "    <tr>\n",
              "      <th>3</th>\n",
              "      <td>2013-11-29</td>\n",
              "      <td>2013-11-29</td>\n",
              "      <td>Bob Jackson</td>\n",
              "      <td>Cyber Weekend</td>\n",
              "      <td>280332</td>\n",
              "      <td>2.365406</td>\n",
              "      <td>663099</td>\n",
              "      <td>301</td>\n",
              "      <td>275</td>\n",
              "      <td>300.00</td>\n",
              "      <td>3</td>\n",
              "      <td>257</td>\n",
              "      <td>254</td>\n",
              "      <td>0</td>\n",
              "      <td>0</td>\n",
              "      <td>0</td>\n",
              "      <td>0</td>\n",
              "      <td>254</td>\n",
              "      <td>100.00</td>\n",
              "      <td>1.167315</td>\n",
              "      <td>0.000452</td>\n",
              "    </tr>\n",
              "    <tr>\n",
              "      <th>4</th>\n",
              "      <td>2013-11-22</td>\n",
              "      <td>2013-11-22</td>\n",
              "      <td>Bob Jackson</td>\n",
              "      <td>TravelPony: General Ads</td>\n",
              "      <td>14269</td>\n",
              "      <td>1.000420</td>\n",
              "      <td>14275</td>\n",
              "      <td>64</td>\n",
              "      <td>61</td>\n",
              "      <td>35.18</td>\n",
              "      <td>2</td>\n",
              "      <td>14</td>\n",
              "      <td>12</td>\n",
              "      <td>0</td>\n",
              "      <td>0</td>\n",
              "      <td>0</td>\n",
              "      <td>0</td>\n",
              "      <td>12</td>\n",
              "      <td>17.59</td>\n",
              "      <td>2.512857</td>\n",
              "      <td>0.002464</td>\n",
              "    </tr>\n",
              "  </tbody>\n",
              "</table>\n",
              "</div>"
            ],
            "text/plain": [
              "   Start Date    End Date  ... Cost per Page Engagement (USD)       CPI\n",
              "0  2013-12-02  2013-12-02  ...                       1.219512  0.000466\n",
              "1  2013-12-01  2013-12-01  ...                       1.395349  0.000652\n",
              "2  2013-11-30  2013-11-30  ...                       1.190476  0.000448\n",
              "3  2013-11-29  2013-11-29  ...                       1.167315  0.000452\n",
              "4  2013-11-22  2013-11-22  ...                       2.512857  0.002464\n",
              "\n",
              "[5 rows x 21 columns]"
            ]
          },
          "metadata": {
            "tags": []
          },
          "execution_count": 10
        }
      ]
    },
    {
      "cell_type": "markdown",
      "metadata": {
        "id": "0AUkuMTFm6ue",
        "colab_type": "text"
      },
      "source": [
        "Considering CPI, what day of the week works best(cheapest)?\n",
        "What day is worst (most expensive)?"
      ]
    },
    {
      "cell_type": "code",
      "metadata": {
        "id": "rbNSEnhpx0Vt",
        "colab_type": "code",
        "outputId": "b68ba631-3fb5-4113-a81d-2d1dd9b2c11d",
        "colab": {
          "base_uri": "https://localhost:8080/",
          "height": 394
        }
      },
      "source": [
        "df.head()"
      ],
      "execution_count": 0,
      "outputs": [
        {
          "output_type": "execute_result",
          "data": {
            "text/html": [
              "<div>\n",
              "<style scoped>\n",
              "    .dataframe tbody tr th:only-of-type {\n",
              "        vertical-align: middle;\n",
              "    }\n",
              "\n",
              "    .dataframe tbody tr th {\n",
              "        vertical-align: top;\n",
              "    }\n",
              "\n",
              "    .dataframe thead th {\n",
              "        text-align: right;\n",
              "    }\n",
              "</style>\n",
              "<table border=\"1\" class=\"dataframe\">\n",
              "  <thead>\n",
              "    <tr style=\"text-align: right;\">\n",
              "      <th></th>\n",
              "      <th>Start Date</th>\n",
              "      <th>End Date</th>\n",
              "      <th>Account</th>\n",
              "      <th>Campaign Name</th>\n",
              "      <th>Reach</th>\n",
              "      <th>Frequency</th>\n",
              "      <th>Impressions</th>\n",
              "      <th>Clicks</th>\n",
              "      <th>Unique Clicks</th>\n",
              "      <th>Amount Spent (USD)</th>\n",
              "      <th>Page Likes</th>\n",
              "      <th>Page Engagement</th>\n",
              "      <th>Post Engagement</th>\n",
              "      <th>Post Likes</th>\n",
              "      <th>Post Comments</th>\n",
              "      <th>Post Shares</th>\n",
              "      <th>Photo Views</th>\n",
              "      <th>Website Clicks</th>\n",
              "      <th>Cost per Page Like (USD)</th>\n",
              "      <th>Cost per Page Engagement (USD)</th>\n",
              "    </tr>\n",
              "  </thead>\n",
              "  <tbody>\n",
              "    <tr>\n",
              "      <th>0</th>\n",
              "      <td>2013-12-02</td>\n",
              "      <td>2013-12-02</td>\n",
              "      <td>Bob Jackson</td>\n",
              "      <td>Cyber Weekend</td>\n",
              "      <td>278117</td>\n",
              "      <td>2.314303</td>\n",
              "      <td>643647</td>\n",
              "      <td>336</td>\n",
              "      <td>313</td>\n",
              "      <td>300.00</td>\n",
              "      <td>3</td>\n",
              "      <td>246</td>\n",
              "      <td>243</td>\n",
              "      <td>0</td>\n",
              "      <td>0</td>\n",
              "      <td>0</td>\n",
              "      <td>0</td>\n",
              "      <td>243</td>\n",
              "      <td>100.00</td>\n",
              "      <td>1.219512</td>\n",
              "    </tr>\n",
              "    <tr>\n",
              "      <th>1</th>\n",
              "      <td>2013-12-01</td>\n",
              "      <td>2013-12-01</td>\n",
              "      <td>Bob Jackson</td>\n",
              "      <td>Cyber Weekend</td>\n",
              "      <td>221255</td>\n",
              "      <td>2.079090</td>\n",
              "      <td>460009</td>\n",
              "      <td>376</td>\n",
              "      <td>348</td>\n",
              "      <td>300.00</td>\n",
              "      <td>6</td>\n",
              "      <td>215</td>\n",
              "      <td>209</td>\n",
              "      <td>0</td>\n",
              "      <td>0</td>\n",
              "      <td>0</td>\n",
              "      <td>0</td>\n",
              "      <td>209</td>\n",
              "      <td>50.00</td>\n",
              "      <td>1.395349</td>\n",
              "    </tr>\n",
              "    <tr>\n",
              "      <th>2</th>\n",
              "      <td>2013-11-30</td>\n",
              "      <td>2013-11-30</td>\n",
              "      <td>Bob Jackson</td>\n",
              "      <td>Cyber Weekend</td>\n",
              "      <td>267915</td>\n",
              "      <td>2.499069</td>\n",
              "      <td>669538</td>\n",
              "      <td>383</td>\n",
              "      <td>345</td>\n",
              "      <td>300.00</td>\n",
              "      <td>2</td>\n",
              "      <td>252</td>\n",
              "      <td>250</td>\n",
              "      <td>0</td>\n",
              "      <td>0</td>\n",
              "      <td>0</td>\n",
              "      <td>0</td>\n",
              "      <td>250</td>\n",
              "      <td>150.00</td>\n",
              "      <td>1.190476</td>\n",
              "    </tr>\n",
              "    <tr>\n",
              "      <th>3</th>\n",
              "      <td>2013-11-29</td>\n",
              "      <td>2013-11-29</td>\n",
              "      <td>Bob Jackson</td>\n",
              "      <td>Cyber Weekend</td>\n",
              "      <td>280332</td>\n",
              "      <td>2.365406</td>\n",
              "      <td>663099</td>\n",
              "      <td>301</td>\n",
              "      <td>275</td>\n",
              "      <td>300.00</td>\n",
              "      <td>3</td>\n",
              "      <td>257</td>\n",
              "      <td>254</td>\n",
              "      <td>0</td>\n",
              "      <td>0</td>\n",
              "      <td>0</td>\n",
              "      <td>0</td>\n",
              "      <td>254</td>\n",
              "      <td>100.00</td>\n",
              "      <td>1.167315</td>\n",
              "    </tr>\n",
              "    <tr>\n",
              "      <th>4</th>\n",
              "      <td>2013-11-22</td>\n",
              "      <td>2013-11-22</td>\n",
              "      <td>Bob Jackson</td>\n",
              "      <td>TravelPony: General Ads</td>\n",
              "      <td>14269</td>\n",
              "      <td>1.000420</td>\n",
              "      <td>14275</td>\n",
              "      <td>64</td>\n",
              "      <td>61</td>\n",
              "      <td>35.18</td>\n",
              "      <td>2</td>\n",
              "      <td>14</td>\n",
              "      <td>12</td>\n",
              "      <td>0</td>\n",
              "      <td>0</td>\n",
              "      <td>0</td>\n",
              "      <td>0</td>\n",
              "      <td>12</td>\n",
              "      <td>17.59</td>\n",
              "      <td>2.512857</td>\n",
              "    </tr>\n",
              "  </tbody>\n",
              "</table>\n",
              "</div>"
            ],
            "text/plain": [
              "   Start Date  ... Cost per Page Engagement (USD)\n",
              "0  2013-12-02  ...                       1.219512\n",
              "1  2013-12-01  ...                       1.395349\n",
              "2  2013-11-30  ...                       1.190476\n",
              "3  2013-11-29  ...                       1.167315\n",
              "4  2013-11-22  ...                       2.512857\n",
              "\n",
              "[5 rows x 20 columns]"
            ]
          },
          "metadata": {
            "tags": []
          },
          "execution_count": 29
        }
      ]
    },
    {
      "cell_type": "code",
      "metadata": {
        "id": "LxnLSz2Z4REc",
        "colab_type": "code",
        "colab": {}
      },
      "source": [
        "my_df = df"
      ],
      "execution_count": 0,
      "outputs": []
    },
    {
      "cell_type": "code",
      "metadata": {
        "id": "MmQxgIkD5dvr",
        "colab_type": "code",
        "colab": {}
      },
      "source": [
        "#use pandas to get weekdays"
      ],
      "execution_count": 0,
      "outputs": []
    },
    {
      "cell_type": "code",
      "metadata": {
        "id": "2thn9-1O4NSQ",
        "colab_type": "code",
        "colab": {}
      },
      "source": [
        "my_df['Start Date'] = pd.to_datetime(my_df['Start Date'], format=\"%Y-%m-%d\")\n",
        "\n",
        "my_df['Day of week (int)'] = my_df['Start Date'].dt.weekday\n",
        "\n",
        "my_df['Day of week (str)'] = my_df['Start Date'].dt.day_name()\n"
      ],
      "execution_count": 0,
      "outputs": []
    },
    {
      "cell_type": "code",
      "metadata": {
        "id": "mfLWI-dR5C31",
        "colab_type": "code",
        "outputId": "79111197-175b-4895-cc54-4eacaf772d5b",
        "colab": {
          "base_uri": "https://localhost:8080/",
          "height": 394
        }
      },
      "source": [
        "my_df.head()"
      ],
      "execution_count": 0,
      "outputs": [
        {
          "output_type": "execute_result",
          "data": {
            "text/html": [
              "<div>\n",
              "<style scoped>\n",
              "    .dataframe tbody tr th:only-of-type {\n",
              "        vertical-align: middle;\n",
              "    }\n",
              "\n",
              "    .dataframe tbody tr th {\n",
              "        vertical-align: top;\n",
              "    }\n",
              "\n",
              "    .dataframe thead th {\n",
              "        text-align: right;\n",
              "    }\n",
              "</style>\n",
              "<table border=\"1\" class=\"dataframe\">\n",
              "  <thead>\n",
              "    <tr style=\"text-align: right;\">\n",
              "      <th></th>\n",
              "      <th>Start Date</th>\n",
              "      <th>End Date</th>\n",
              "      <th>Account</th>\n",
              "      <th>Campaign Name</th>\n",
              "      <th>Reach</th>\n",
              "      <th>Frequency</th>\n",
              "      <th>Impressions</th>\n",
              "      <th>Clicks</th>\n",
              "      <th>Unique Clicks</th>\n",
              "      <th>Amount Spent (USD)</th>\n",
              "      <th>Page Likes</th>\n",
              "      <th>Page Engagement</th>\n",
              "      <th>Post Engagement</th>\n",
              "      <th>Post Likes</th>\n",
              "      <th>Post Comments</th>\n",
              "      <th>Post Shares</th>\n",
              "      <th>Photo Views</th>\n",
              "      <th>Website Clicks</th>\n",
              "      <th>Cost per Page Like (USD)</th>\n",
              "      <th>Cost per Page Engagement (USD)</th>\n",
              "      <th>Day of week (int)</th>\n",
              "      <th>Day of week (str)</th>\n",
              "      <th>CPI</th>\n",
              "    </tr>\n",
              "  </thead>\n",
              "  <tbody>\n",
              "    <tr>\n",
              "      <th>0</th>\n",
              "      <td>2013-12-02</td>\n",
              "      <td>2013-12-02</td>\n",
              "      <td>Bob Jackson</td>\n",
              "      <td>Cyber Weekend</td>\n",
              "      <td>278117</td>\n",
              "      <td>2.314303</td>\n",
              "      <td>643647</td>\n",
              "      <td>336</td>\n",
              "      <td>313</td>\n",
              "      <td>300.00</td>\n",
              "      <td>3</td>\n",
              "      <td>246</td>\n",
              "      <td>243</td>\n",
              "      <td>0</td>\n",
              "      <td>0</td>\n",
              "      <td>0</td>\n",
              "      <td>0</td>\n",
              "      <td>243</td>\n",
              "      <td>100.00</td>\n",
              "      <td>1.219512</td>\n",
              "      <td>0</td>\n",
              "      <td>Monday</td>\n",
              "      <td>0.000466</td>\n",
              "    </tr>\n",
              "    <tr>\n",
              "      <th>1</th>\n",
              "      <td>2013-12-01</td>\n",
              "      <td>2013-12-01</td>\n",
              "      <td>Bob Jackson</td>\n",
              "      <td>Cyber Weekend</td>\n",
              "      <td>221255</td>\n",
              "      <td>2.079090</td>\n",
              "      <td>460009</td>\n",
              "      <td>376</td>\n",
              "      <td>348</td>\n",
              "      <td>300.00</td>\n",
              "      <td>6</td>\n",
              "      <td>215</td>\n",
              "      <td>209</td>\n",
              "      <td>0</td>\n",
              "      <td>0</td>\n",
              "      <td>0</td>\n",
              "      <td>0</td>\n",
              "      <td>209</td>\n",
              "      <td>50.00</td>\n",
              "      <td>1.395349</td>\n",
              "      <td>6</td>\n",
              "      <td>Sunday</td>\n",
              "      <td>0.000652</td>\n",
              "    </tr>\n",
              "    <tr>\n",
              "      <th>2</th>\n",
              "      <td>2013-11-30</td>\n",
              "      <td>2013-11-30</td>\n",
              "      <td>Bob Jackson</td>\n",
              "      <td>Cyber Weekend</td>\n",
              "      <td>267915</td>\n",
              "      <td>2.499069</td>\n",
              "      <td>669538</td>\n",
              "      <td>383</td>\n",
              "      <td>345</td>\n",
              "      <td>300.00</td>\n",
              "      <td>2</td>\n",
              "      <td>252</td>\n",
              "      <td>250</td>\n",
              "      <td>0</td>\n",
              "      <td>0</td>\n",
              "      <td>0</td>\n",
              "      <td>0</td>\n",
              "      <td>250</td>\n",
              "      <td>150.00</td>\n",
              "      <td>1.190476</td>\n",
              "      <td>5</td>\n",
              "      <td>Saturday</td>\n",
              "      <td>0.000448</td>\n",
              "    </tr>\n",
              "    <tr>\n",
              "      <th>3</th>\n",
              "      <td>2013-11-29</td>\n",
              "      <td>2013-11-29</td>\n",
              "      <td>Bob Jackson</td>\n",
              "      <td>Cyber Weekend</td>\n",
              "      <td>280332</td>\n",
              "      <td>2.365406</td>\n",
              "      <td>663099</td>\n",
              "      <td>301</td>\n",
              "      <td>275</td>\n",
              "      <td>300.00</td>\n",
              "      <td>3</td>\n",
              "      <td>257</td>\n",
              "      <td>254</td>\n",
              "      <td>0</td>\n",
              "      <td>0</td>\n",
              "      <td>0</td>\n",
              "      <td>0</td>\n",
              "      <td>254</td>\n",
              "      <td>100.00</td>\n",
              "      <td>1.167315</td>\n",
              "      <td>4</td>\n",
              "      <td>Friday</td>\n",
              "      <td>0.000452</td>\n",
              "    </tr>\n",
              "    <tr>\n",
              "      <th>4</th>\n",
              "      <td>2013-11-22</td>\n",
              "      <td>2013-11-22</td>\n",
              "      <td>Bob Jackson</td>\n",
              "      <td>TravelPony: General Ads</td>\n",
              "      <td>14269</td>\n",
              "      <td>1.000420</td>\n",
              "      <td>14275</td>\n",
              "      <td>64</td>\n",
              "      <td>61</td>\n",
              "      <td>35.18</td>\n",
              "      <td>2</td>\n",
              "      <td>14</td>\n",
              "      <td>12</td>\n",
              "      <td>0</td>\n",
              "      <td>0</td>\n",
              "      <td>0</td>\n",
              "      <td>0</td>\n",
              "      <td>12</td>\n",
              "      <td>17.59</td>\n",
              "      <td>2.512857</td>\n",
              "      <td>4</td>\n",
              "      <td>Friday</td>\n",
              "      <td>0.002464</td>\n",
              "    </tr>\n",
              "  </tbody>\n",
              "</table>\n",
              "</div>"
            ],
            "text/plain": [
              "  Start Date    End Date  ... Day of week (str)       CPI\n",
              "0 2013-12-02  2013-12-02  ...            Monday  0.000466\n",
              "1 2013-12-01  2013-12-01  ...            Sunday  0.000652\n",
              "2 2013-11-30  2013-11-30  ...          Saturday  0.000448\n",
              "3 2013-11-29  2013-11-29  ...            Friday  0.000452\n",
              "4 2013-11-22  2013-11-22  ...            Friday  0.002464\n",
              "\n",
              "[5 rows x 23 columns]"
            ]
          },
          "metadata": {
            "tags": []
          },
          "execution_count": 52
        }
      ]
    },
    {
      "cell_type": "code",
      "metadata": {
        "id": "X1Vs2MgL6sPV",
        "colab_type": "code",
        "colab": {}
      },
      "source": [
        "my_df['CPI'] = my_df['Amount Spent (USD)']/df['Impressions']"
      ],
      "execution_count": 0,
      "outputs": []
    },
    {
      "cell_type": "markdown",
      "metadata": {
        "id": "6r8gz8Qg7e7M",
        "colab_type": "text"
      },
      "source": [
        "When Considering Cost Per Impression, what day of the week works best?"
      ]
    },
    {
      "cell_type": "code",
      "metadata": {
        "id": "aOLyy1Ro92a7",
        "colab_type": "code",
        "outputId": "df07b551-d146-4a5d-859b-52a25ad42a68",
        "colab": {
          "base_uri": "https://localhost:8080/",
          "height": 297
        }
      },
      "source": [
        "my_df.groupby('Day of week (str)')[['CPI']].mean()"
      ],
      "execution_count": 0,
      "outputs": [
        {
          "output_type": "execute_result",
          "data": {
            "text/html": [
              "<div>\n",
              "<style scoped>\n",
              "    .dataframe tbody tr th:only-of-type {\n",
              "        vertical-align: middle;\n",
              "    }\n",
              "\n",
              "    .dataframe tbody tr th {\n",
              "        vertical-align: top;\n",
              "    }\n",
              "\n",
              "    .dataframe thead th {\n",
              "        text-align: right;\n",
              "    }\n",
              "</style>\n",
              "<table border=\"1\" class=\"dataframe\">\n",
              "  <thead>\n",
              "    <tr style=\"text-align: right;\">\n",
              "      <th></th>\n",
              "      <th>CPI</th>\n",
              "    </tr>\n",
              "    <tr>\n",
              "      <th>Day of week (str)</th>\n",
              "      <th></th>\n",
              "    </tr>\n",
              "  </thead>\n",
              "  <tbody>\n",
              "    <tr>\n",
              "      <th>Friday</th>\n",
              "      <td>0.004097</td>\n",
              "    </tr>\n",
              "    <tr>\n",
              "      <th>Monday</th>\n",
              "      <td>0.002910</td>\n",
              "    </tr>\n",
              "    <tr>\n",
              "      <th>Saturday</th>\n",
              "      <td>0.002629</td>\n",
              "    </tr>\n",
              "    <tr>\n",
              "      <th>Sunday</th>\n",
              "      <td>0.003688</td>\n",
              "    </tr>\n",
              "    <tr>\n",
              "      <th>Thursday</th>\n",
              "      <td>0.003398</td>\n",
              "    </tr>\n",
              "    <tr>\n",
              "      <th>Tuesday</th>\n",
              "      <td>0.003040</td>\n",
              "    </tr>\n",
              "    <tr>\n",
              "      <th>Wednesday</th>\n",
              "      <td>0.002981</td>\n",
              "    </tr>\n",
              "  </tbody>\n",
              "</table>\n",
              "</div>"
            ],
            "text/plain": [
              "                        CPI\n",
              "Day of week (str)          \n",
              "Friday             0.004097\n",
              "Monday             0.002910\n",
              "Saturday           0.002629\n",
              "Sunday             0.003688\n",
              "Thursday           0.003398\n",
              "Tuesday            0.003040\n",
              "Wednesday          0.002981"
            ]
          },
          "metadata": {
            "tags": []
          },
          "execution_count": 54
        }
      ]
    },
    {
      "cell_type": "markdown",
      "metadata": {
        "id": "UcU8tZPs_u5c",
        "colab_type": "text"
      },
      "source": [
        "This shows us that Saturday is the \"cheapest\" and Friday is the most expensive if we are looking at avg CPI\n"
      ]
    },
    {
      "cell_type": "markdown",
      "metadata": {
        "id": "QOzktZPkyRjg",
        "colab_type": "text"
      },
      "source": [
        "Now we are computing the correlation between Amount Spent and following variables:\n",
        " - Reach\n",
        " - Frequency\n",
        " - Unique Clicks\n",
        " - Page Likes"
      ]
    },
    {
      "cell_type": "code",
      "metadata": {
        "id": "8VqF0ya0zyMi",
        "colab_type": "code",
        "colab": {}
      },
      "source": [
        "import statsmodels.api as sm"
      ],
      "execution_count": 0,
      "outputs": []
    },
    {
      "cell_type": "code",
      "metadata": {
        "id": "0j_r8_9EyxPL",
        "colab_type": "code",
        "outputId": "d5d091ea-4fc0-48d7-8145-35b3e5506a39",
        "colab": {
          "base_uri": "https://localhost:8080/",
          "height": 510
        }
      },
      "source": [
        "target = my_df['Amount Spent (USD)']\n",
        "dep = my_df[['Reach', 'Frequency', 'Unique Clicks', 'Page Likes']]\n",
        "mod = sm.OLS(target, dep) \n",
        "ols = mod.fit()\n",
        "print(ols.summary())"
      ],
      "execution_count": 0,
      "outputs": [
        {
          "output_type": "stream",
          "text": [
            "                                 OLS Regression Results                                \n",
            "=======================================================================================\n",
            "Dep. Variable:     Amount Spent (USD)   R-squared (uncentered):                   0.905\n",
            "Model:                            OLS   Adj. R-squared (uncentered):              0.905\n",
            "Method:                 Least Squares   F-statistic:                              8800.\n",
            "Date:                Wed, 13 Nov 2019   Prob (F-statistic):                        0.00\n",
            "Time:                        18:28:46   Log-Likelihood:                         -13145.\n",
            "No. Observations:                3705   AIC:                                  2.630e+04\n",
            "Df Residuals:                    3701   BIC:                                  2.632e+04\n",
            "Df Model:                           4                                                  \n",
            "Covariance Type:            nonrobust                                                  \n",
            "=================================================================================\n",
            "                    coef    std err          t      P>|t|      [0.025      0.975]\n",
            "---------------------------------------------------------------------------------\n",
            "Reach             0.0006   2.14e-05     29.866      0.000       0.001       0.001\n",
            "Frequency         0.3320      0.144      2.302      0.021       0.049       0.615\n",
            "Unique Clicks     0.4700      0.009     50.918      0.000       0.452       0.488\n",
            "Page Likes        4.0329      0.066     60.772      0.000       3.903       4.163\n",
            "==============================================================================\n",
            "Omnibus:                     2894.230   Durbin-Watson:                   1.868\n",
            "Prob(Omnibus):                  0.000   Jarque-Bera (JB):           397737.734\n",
            "Skew:                           2.931   Prob(JB):                         0.00\n",
            "Kurtosis:                      53.419   Cond. No.                     1.02e+04\n",
            "==============================================================================\n",
            "\n",
            "Warnings:\n",
            "[1] Standard Errors assume that the covariance matrix of the errors is correctly specified.\n",
            "[2] The condition number is large, 1.02e+04. This might indicate that there are\n",
            "strong multicollinearity or other numerical problems.\n"
          ],
          "name": "stdout"
        }
      ]
    },
    {
      "cell_type": "markdown",
      "metadata": {
        "id": "zqpUlLKq0WHo",
        "colab_type": "text"
      },
      "source": [
        "This shows us that Page Likes is affected the most by how much is spent on ads "
      ]
    },
    {
      "cell_type": "markdown",
      "metadata": {
        "id": "H4yRkqSY0lxK",
        "colab_type": "text"
      },
      "source": [
        "What variable most strongly predicts unique clicks? What does that mean practically?"
      ]
    },
    {
      "cell_type": "code",
      "metadata": {
        "id": "jLYJW1_U0ivL",
        "colab_type": "code",
        "outputId": "70be4238-aa39-4fa5-ddc1-9b6a65afb50f",
        "colab": {
          "base_uri": "https://localhost:8080/",
          "height": 476
        }
      },
      "source": [
        "target = my_df['Unique Clicks']\n",
        "dep = my_df[['Reach', 'Frequency']]\n",
        "mod = sm.OLS(target, dep)\n",
        "ols = mod.fit()\n",
        "print(ols.summary())\n"
      ],
      "execution_count": 0,
      "outputs": [
        {
          "output_type": "stream",
          "text": [
            "                                 OLS Regression Results                                \n",
            "=======================================================================================\n",
            "Dep. Variable:          Unique Clicks   R-squared (uncentered):                   0.557\n",
            "Model:                            OLS   Adj. R-squared (uncentered):              0.556\n",
            "Method:                 Least Squares   F-statistic:                              2325.\n",
            "Date:                Wed, 13 Nov 2019   Prob (F-statistic):                        0.00\n",
            "Time:                        18:28:34   Log-Likelihood:                         -15973.\n",
            "No. Observations:                3705   AIC:                                  3.195e+04\n",
            "Df Residuals:                    3703   BIC:                                  3.196e+04\n",
            "Df Model:                           2                                                  \n",
            "Covariance Type:            nonrobust                                                  \n",
            "==============================================================================\n",
            "                 coef    std err          t      P>|t|      [0.025      0.975]\n",
            "------------------------------------------------------------------------------\n",
            "Reach          0.0019   3.12e-05     62.490      0.000       0.002       0.002\n",
            "Frequency      3.6139      0.298     12.109      0.000       3.029       4.199\n",
            "==============================================================================\n",
            "Omnibus:                     5107.616   Durbin-Watson:                   0.803\n",
            "Prob(Omnibus):                  0.000   Jarque-Bera (JB):          5128392.747\n",
            "Skew:                           7.331   Prob(JB):                         0.00\n",
            "Kurtosis:                     184.674   Cond. No.                     9.84e+03\n",
            "==============================================================================\n",
            "\n",
            "Warnings:\n",
            "[1] Standard Errors assume that the covariance matrix of the errors is correctly specified.\n",
            "[2] The condition number is large, 9.84e+03. This might indicate that there are\n",
            "strong multicollinearity or other numerical problems.\n"
          ],
          "name": "stdout"
        }
      ]
    },
    {
      "cell_type": "markdown",
      "metadata": {
        "id": "rsLccUnVCRDd",
        "colab_type": "text"
      },
      "source": [
        "According to this model, the frequency most strongly predicts unique clicks. Essentially, this means that how often an individual sees an ad is more predictive of unique click rather than simply increasing the number of people who see the ad."
      ]
    },
    {
      "cell_type": "code",
      "metadata": {
        "id": "Eu1RsoBWC1fK",
        "colab_type": "code",
        "colab": {}
      },
      "source": [
        "#FIN"
      ],
      "execution_count": 0,
      "outputs": []
    }
  ]
}